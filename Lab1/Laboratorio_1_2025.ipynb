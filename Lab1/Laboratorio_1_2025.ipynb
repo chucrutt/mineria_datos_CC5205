{
  "cells": [
    {
      "cell_type": "markdown",
      "metadata": {
        "id": "-CnSaU7yuHuo"
      },
      "source": [
        "# Laboratorio 1: Exploración y Visualización de Datos\n",
        "\n",
        "Integrantes: **Tomás Vallejo Cerda y Juan Pablo Bustamante**\n"
      ]
    },
    {
      "cell_type": "markdown",
      "metadata": {
        "id": "DAB7Kb-fuwH4"
      },
      "source": [
        "## Instrucciones\n",
        "\n",
        "1.  Trabajen en equipos de dos personas. Salvo excepciones, no se corregirá entregas con menos de dos integrantes.\n",
        "\n",
        "2.  Modifique este archivo `.ipynb` agregando sus respuestas donde corresponda.\n",
        "\n",
        "3.  Para cada pregunta **incluya el código fuente que utilizó para llegar a su respuesta. Respuestas sin código no recibirán puntaje.**.\n",
        "\n",
        "4.  El formato de entrega para esta actividad es un archivo **html**. **Genere un archivo HTML usando Jupyter** y súbalo a U-Cursos. Basta con que un/a integrante haga la entrega. Si ambos/as hacen una entrega en U-Cursos, se revisará cualquiera de éstas.\n",
        "\n",
        "\n",
        "#### **Se recomienda fuertemente que no usen ChatGPT para resolver la actividad, ya que la experiencia de aprendizaje es mucho mayor si lo hacen por su cuenta.**"
      ]
    },
    {
      "cell_type": "markdown",
      "metadata": {
        "id": "nyO8FDUqPYEF"
      },
      "source": [
        "## Pongamonos en situación"
      ]
    },
    {
      "cell_type": "markdown",
      "metadata": {
        "id": "zm7XGdfrPYEH"
      },
      "source": [
        "Eres un **cientifico de datos** que trabaja en **Netflix**.\n",
        "\n",
        "En los últimos años ha **crecido la cantidad usuarios que ven anime** en la plataforma, por lo que el equipo de contenido de Netflix ha decidido invertir en la producción de series de anime.\n",
        "\n",
        "Tu jefe te ha pedido que **realices un análisis de los datos de las series de anime** para entender mejor el mercado y poder tomar decisiones informadas."
      ]
    },
    {
      "cell_type": "markdown",
      "metadata": {
        "id": "Q9ssMcp0PYEI"
      },
      "source": [
        "## Datos"
      ]
    },
    {
      "cell_type": "markdown",
      "metadata": {
        "id": "aOoASC9ywZ3D"
      },
      "source": [
        "Para realizar esta tarea, te han entregado un dataset con información de animes de la página **MyAnimeList** (MAL).\n",
        "\n",
        "FUENTE: https://www.kaggle.com/datasets/azathoth42/myanimelist\n",
        "\n",
        "Tenemos 2 archivos:\n",
        "- `anime.csv`: Contiene 6 atributos: \"title\", \"type\", \"source\", \"episodes\", \"airing\" y \"studio\", que corresponden a información sobre el anime.\n",
        "- `anime-stats.csv`: Contiene 4 atributos: \"title\", \"score\", \"members\" (número de usuarios que tienen el anime en su lista) y \"favorites\", que corresponden a estadísticas sobre la popularidad de cada anime."
      ]
    },
    {
      "cell_type": "code",
      "execution_count": 79,
      "metadata": {
        "id": "xyQGRN44ws0n"
      },
      "outputs": [],
      "source": [
        "import pandas as pd\n",
        "import matplotlib.pyplot as plt"
      ]
    },
    {
      "cell_type": "markdown",
      "metadata": {
        "id": "LAurvYuGPYEO"
      },
      "source": [
        "Para que la siguiente celda funcione, los archivos CSV deben estar en la misma carpeta que este notebook."
      ]
    },
    {
      "cell_type": "code",
      "execution_count": 80,
      "metadata": {
        "id": "ltDQGTy2wnpL"
      },
      "outputs": [],
      "source": [
        "df_anime = pd.read_csv('anime.csv', encoding=\"UTF-8\")\n",
        "df_stats = pd.read_csv('anime-stats.csv', encoding=\"UTF-8\")"
      ]
    },
    {
      "cell_type": "markdown",
      "metadata": {
        "id": "b8jdCwYhwyOV"
      },
      "source": [
        "También puedes cargarlos remotamente de un repositorio usando el link a los archivos:\n"
      ]
    },
    {
      "cell_type": "code",
      "execution_count": 81,
      "metadata": {
        "id": "2_8H7ZEJwx7O"
      },
      "outputs": [],
      "source": [
        "df_anime = pd.read_csv('https://raw.githubusercontent.com/bacchus00/cositas/main/anime.csv', encoding=\"UTF-8\")\n",
        "df_stats = pd.read_csv('https://raw.githubusercontent.com/bacchus00/cositas/main/anime-stats.csv', encoding=\"UTF-8\")"
      ]
    },
    {
      "cell_type": "markdown",
      "metadata": {
        "id": "0wVQrAf3PYES"
      },
      "source": [
        "Cualquiera de estas 2 formas es válida para cargar los datos."
      ]
    },
    {
      "cell_type": "markdown",
      "metadata": {
        "id": "uHNVPuI4xN1W"
      },
      "source": [
        "## Exploración básica\n"
      ]
    },
    {
      "cell_type": "markdown",
      "metadata": {
        "id": "H-BY_Nl1PYEU"
      },
      "source": [
        "Para hacernos una idea de como se ven los datos, lo más usual es mostrar los primeros registros de cada dataset."
      ]
    },
    {
      "cell_type": "markdown",
      "metadata": {
        "id": "N031NwOSPYEU"
      },
      "source": [
        "1. Muestre los primeros 5 registros de cada dataset."
      ]
    },
    {
      "cell_type": "code",
      "execution_count": 82,
      "metadata": {
        "colab": {
          "base_uri": "https://localhost:8080/",
          "height": 224
        },
        "id": "isqkpRT7PYEU",
        "outputId": "4d809eec-f6f0-40a0-cb57-3de43269fc7c"
      },
      "outputs": [
        {
          "name": "stdout",
          "output_type": "stream",
          "text": [
            "Primeros 5 registros del Dataset anime:\n"
          ]
        },
        {
          "data": {
            "text/html": [
              "<div>\n",
              "<style scoped>\n",
              "    .dataframe tbody tr th:only-of-type {\n",
              "        vertical-align: middle;\n",
              "    }\n",
              "\n",
              "    .dataframe tbody tr th {\n",
              "        vertical-align: top;\n",
              "    }\n",
              "\n",
              "    .dataframe thead th {\n",
              "        text-align: right;\n",
              "    }\n",
              "</style>\n",
              "<table border=\"1\" class=\"dataframe\">\n",
              "  <thead>\n",
              "    <tr style=\"text-align: right;\">\n",
              "      <th></th>\n",
              "      <th>title</th>\n",
              "      <th>type</th>\n",
              "      <th>source</th>\n",
              "      <th>episodes</th>\n",
              "      <th>airing</th>\n",
              "      <th>studio</th>\n",
              "    </tr>\n",
              "  </thead>\n",
              "  <tbody>\n",
              "    <tr>\n",
              "      <th>0</th>\n",
              "      <td>Inu x Boku SS</td>\n",
              "      <td>TV</td>\n",
              "      <td>Manga</td>\n",
              "      <td>12</td>\n",
              "      <td>False</td>\n",
              "      <td>David Production</td>\n",
              "    </tr>\n",
              "    <tr>\n",
              "      <th>1</th>\n",
              "      <td>Seto no Hanayome</td>\n",
              "      <td>TV</td>\n",
              "      <td>Manga</td>\n",
              "      <td>26</td>\n",
              "      <td>False</td>\n",
              "      <td>Gonzo</td>\n",
              "    </tr>\n",
              "    <tr>\n",
              "      <th>2</th>\n",
              "      <td>Shugo Chara!! Doki</td>\n",
              "      <td>TV</td>\n",
              "      <td>Manga</td>\n",
              "      <td>51</td>\n",
              "      <td>False</td>\n",
              "      <td>Satelight</td>\n",
              "    </tr>\n",
              "    <tr>\n",
              "      <th>3</th>\n",
              "      <td>Princess Tutu</td>\n",
              "      <td>TV</td>\n",
              "      <td>Original</td>\n",
              "      <td>38</td>\n",
              "      <td>False</td>\n",
              "      <td>Hal Film Maker</td>\n",
              "    </tr>\n",
              "    <tr>\n",
              "      <th>4</th>\n",
              "      <td>Bakuman. 3rd Season</td>\n",
              "      <td>TV</td>\n",
              "      <td>Manga</td>\n",
              "      <td>25</td>\n",
              "      <td>False</td>\n",
              "      <td>J.C.Staff</td>\n",
              "    </tr>\n",
              "  </tbody>\n",
              "</table>\n",
              "</div>"
            ],
            "text/plain": [
              "                 title type    source  episodes  airing            studio\n",
              "0        Inu x Boku SS   TV     Manga        12   False  David Production\n",
              "1     Seto no Hanayome   TV     Manga        26   False             Gonzo\n",
              "2   Shugo Chara!! Doki   TV     Manga        51   False         Satelight\n",
              "3        Princess Tutu   TV  Original        38   False    Hal Film Maker\n",
              "4  Bakuman. 3rd Season   TV     Manga        25   False         J.C.Staff"
            ]
          },
          "execution_count": 82,
          "metadata": {},
          "output_type": "execute_result"
        }
      ],
      "source": [
        "print('Primeros 5 registros del Dataset anime:')\n",
        "df_anime.head()"
      ]
    },
    {
      "cell_type": "code",
      "execution_count": 83,
      "metadata": {
        "colab": {
          "base_uri": "https://localhost:8080/",
          "height": 224
        },
        "id": "G0N9XBRKPYEV",
        "outputId": "efa805e6-1fa3-4215-add3-1c64bec301e6"
      },
      "outputs": [
        {
          "name": "stdout",
          "output_type": "stream",
          "text": [
            "Primeros 5 registros del Dataset stats:\n"
          ]
        },
        {
          "data": {
            "text/html": [
              "<div>\n",
              "<style scoped>\n",
              "    .dataframe tbody tr th:only-of-type {\n",
              "        vertical-align: middle;\n",
              "    }\n",
              "\n",
              "    .dataframe tbody tr th {\n",
              "        vertical-align: top;\n",
              "    }\n",
              "\n",
              "    .dataframe thead th {\n",
              "        text-align: right;\n",
              "    }\n",
              "</style>\n",
              "<table border=\"1\" class=\"dataframe\">\n",
              "  <thead>\n",
              "    <tr style=\"text-align: right;\">\n",
              "      <th></th>\n",
              "      <th>title</th>\n",
              "      <th>score</th>\n",
              "      <th>members</th>\n",
              "      <th>favorites</th>\n",
              "    </tr>\n",
              "  </thead>\n",
              "  <tbody>\n",
              "    <tr>\n",
              "      <th>0</th>\n",
              "      <td>Inu x Boku SS</td>\n",
              "      <td>7.63</td>\n",
              "      <td>283882</td>\n",
              "      <td>2809</td>\n",
              "    </tr>\n",
              "    <tr>\n",
              "      <th>1</th>\n",
              "      <td>Seto no Hanayome</td>\n",
              "      <td>7.89</td>\n",
              "      <td>204003</td>\n",
              "      <td>2579</td>\n",
              "    </tr>\n",
              "    <tr>\n",
              "      <th>2</th>\n",
              "      <td>Shugo Chara!! Doki</td>\n",
              "      <td>7.55</td>\n",
              "      <td>70127</td>\n",
              "      <td>802</td>\n",
              "    </tr>\n",
              "    <tr>\n",
              "      <th>3</th>\n",
              "      <td>Princess Tutu</td>\n",
              "      <td>8.21</td>\n",
              "      <td>93312</td>\n",
              "      <td>3344</td>\n",
              "    </tr>\n",
              "    <tr>\n",
              "      <th>4</th>\n",
              "      <td>Bakuman. 3rd Season</td>\n",
              "      <td>8.67</td>\n",
              "      <td>182765</td>\n",
              "      <td>2082</td>\n",
              "    </tr>\n",
              "  </tbody>\n",
              "</table>\n",
              "</div>"
            ],
            "text/plain": [
              "                 title  score  members  favorites\n",
              "0        Inu x Boku SS   7.63   283882       2809\n",
              "1     Seto no Hanayome   7.89   204003       2579\n",
              "2   Shugo Chara!! Doki   7.55    70127        802\n",
              "3        Princess Tutu   8.21    93312       3344\n",
              "4  Bakuman. 3rd Season   8.67   182765       2082"
            ]
          },
          "execution_count": 83,
          "metadata": {},
          "output_type": "execute_result"
        }
      ],
      "source": [
        "print('Primeros 5 registros del Dataset stats:')\n",
        "df_stats.head()"
      ]
    },
    {
      "cell_type": "markdown",
      "metadata": {
        "id": "xztKToKWPYEV"
      },
      "source": [
        "Siempre es útil conocer **cuántos datos y cuántas columnas** tenemos.\n",
        "\n",
        "Esto es importante para poder responder\n",
        "- ¿Tenemos suficientes datos?\n",
        "- ¿Tenemos suficientes columnas?\n",
        "- ¿Será muy caro computacionalmente trabajar con estos datos?"
      ]
    },
    {
      "cell_type": "markdown",
      "metadata": {
        "id": "jdf-XMHsPYEV"
      },
      "source": [
        "2. ¿Cuales son las dimensiones de cada dataset? en otras palabras, ¿cuántas filas y columnas tiene cada uno?"
      ]
    },
    {
      "cell_type": "code",
      "execution_count": 84,
      "metadata": {
        "colab": {
          "base_uri": "https://localhost:8080/"
        },
        "id": "gA3Uz40QPYEW",
        "outputId": "79680fca-7567-4687-9827-1fd69b893e6a"
      },
      "outputs": [
        {
          "name": "stdout",
          "output_type": "stream",
          "text": [
            "Dimensiones del Dataset anime (n_filas,n_columnas):\n"
          ]
        },
        {
          "data": {
            "text/plain": [
              "(14478, 6)"
            ]
          },
          "execution_count": 84,
          "metadata": {},
          "output_type": "execute_result"
        }
      ],
      "source": [
        "print('Dimensiones del Dataset anime (n_filas,n_columnas):')\n",
        "df_anime.shape"
      ]
    },
    {
      "cell_type": "code",
      "execution_count": 85,
      "metadata": {
        "colab": {
          "base_uri": "https://localhost:8080/"
        },
        "id": "C2CzzD_vPYEW",
        "outputId": "4aa2f9b6-d842-42ff-a61c-4e26ed4b961b"
      },
      "outputs": [
        {
          "name": "stdout",
          "output_type": "stream",
          "text": [
            "Dimensiones del Dataset stats (n_filas,n_columnas):\n"
          ]
        },
        {
          "data": {
            "text/plain": [
              "(14478, 4)"
            ]
          },
          "execution_count": 85,
          "metadata": {},
          "output_type": "execute_result"
        }
      ],
      "source": [
        "print('Dimensiones del Dataset stats (n_filas,n_columnas):')\n",
        "df_stats.shape"
      ]
    },
    {
      "cell_type": "markdown",
      "metadata": {
        "id": "YM8pZ6Q9PYEW"
      },
      "source": [
        "3. Además de ver algunos registros y las dimensiones, también es útil conocer algunas **estadísticas básicas** de los datos. Usa una función que nos permita **ver las estadísticas básicas** de **todas las columnas**."
      ]
    },
    {
      "cell_type": "code",
      "execution_count": 86,
      "metadata": {
        "colab": {
          "base_uri": "https://localhost:8080/",
          "height": 412
        },
        "id": "Mzimgm2KPYEX",
        "outputId": "1657ee76-89f9-4e96-eba4-43440896b198"
      },
      "outputs": [
        {
          "name": "stdout",
          "output_type": "stream",
          "text": [
            "Estadisticas basicas del Dataset anime:\n"
          ]
        },
        {
          "data": {
            "text/html": [
              "<div>\n",
              "<style scoped>\n",
              "    .dataframe tbody tr th:only-of-type {\n",
              "        vertical-align: middle;\n",
              "    }\n",
              "\n",
              "    .dataframe tbody tr th {\n",
              "        vertical-align: top;\n",
              "    }\n",
              "\n",
              "    .dataframe thead th {\n",
              "        text-align: right;\n",
              "    }\n",
              "</style>\n",
              "<table border=\"1\" class=\"dataframe\">\n",
              "  <thead>\n",
              "    <tr style=\"text-align: right;\">\n",
              "      <th></th>\n",
              "      <th>title</th>\n",
              "      <th>type</th>\n",
              "      <th>source</th>\n",
              "      <th>episodes</th>\n",
              "      <th>airing</th>\n",
              "      <th>studio</th>\n",
              "    </tr>\n",
              "  </thead>\n",
              "  <tbody>\n",
              "    <tr>\n",
              "      <th>count</th>\n",
              "      <td>14478</td>\n",
              "      <td>14478</td>\n",
              "      <td>14478</td>\n",
              "      <td>14478.000000</td>\n",
              "      <td>14478</td>\n",
              "      <td>8544</td>\n",
              "    </tr>\n",
              "    <tr>\n",
              "      <th>unique</th>\n",
              "      <td>14477</td>\n",
              "      <td>7</td>\n",
              "      <td>16</td>\n",
              "      <td>NaN</td>\n",
              "      <td>2</td>\n",
              "      <td>456</td>\n",
              "    </tr>\n",
              "    <tr>\n",
              "      <th>top</th>\n",
              "      <td>Hinamatsuri</td>\n",
              "      <td>TV</td>\n",
              "      <td>Unknown</td>\n",
              "      <td>NaN</td>\n",
              "      <td>False</td>\n",
              "      <td>Toei Animation</td>\n",
              "    </tr>\n",
              "    <tr>\n",
              "      <th>freq</th>\n",
              "      <td>2</td>\n",
              "      <td>4271</td>\n",
              "      <td>4210</td>\n",
              "      <td>NaN</td>\n",
              "      <td>14127</td>\n",
              "      <td>735</td>\n",
              "    </tr>\n",
              "    <tr>\n",
              "      <th>mean</th>\n",
              "      <td>NaN</td>\n",
              "      <td>NaN</td>\n",
              "      <td>NaN</td>\n",
              "      <td>11.308399</td>\n",
              "      <td>NaN</td>\n",
              "      <td>NaN</td>\n",
              "    </tr>\n",
              "    <tr>\n",
              "      <th>std</th>\n",
              "      <td>NaN</td>\n",
              "      <td>NaN</td>\n",
              "      <td>NaN</td>\n",
              "      <td>43.443451</td>\n",
              "      <td>NaN</td>\n",
              "      <td>NaN</td>\n",
              "    </tr>\n",
              "    <tr>\n",
              "      <th>min</th>\n",
              "      <td>NaN</td>\n",
              "      <td>NaN</td>\n",
              "      <td>NaN</td>\n",
              "      <td>0.000000</td>\n",
              "      <td>NaN</td>\n",
              "      <td>NaN</td>\n",
              "    </tr>\n",
              "    <tr>\n",
              "      <th>25%</th>\n",
              "      <td>NaN</td>\n",
              "      <td>NaN</td>\n",
              "      <td>NaN</td>\n",
              "      <td>1.000000</td>\n",
              "      <td>NaN</td>\n",
              "      <td>NaN</td>\n",
              "    </tr>\n",
              "    <tr>\n",
              "      <th>50%</th>\n",
              "      <td>NaN</td>\n",
              "      <td>NaN</td>\n",
              "      <td>NaN</td>\n",
              "      <td>1.000000</td>\n",
              "      <td>NaN</td>\n",
              "      <td>NaN</td>\n",
              "    </tr>\n",
              "    <tr>\n",
              "      <th>75%</th>\n",
              "      <td>NaN</td>\n",
              "      <td>NaN</td>\n",
              "      <td>NaN</td>\n",
              "      <td>12.000000</td>\n",
              "      <td>NaN</td>\n",
              "      <td>NaN</td>\n",
              "    </tr>\n",
              "    <tr>\n",
              "      <th>max</th>\n",
              "      <td>NaN</td>\n",
              "      <td>NaN</td>\n",
              "      <td>NaN</td>\n",
              "      <td>1818.000000</td>\n",
              "      <td>NaN</td>\n",
              "      <td>NaN</td>\n",
              "    </tr>\n",
              "  </tbody>\n",
              "</table>\n",
              "</div>"
            ],
            "text/plain": [
              "              title   type   source      episodes airing          studio\n",
              "count         14478  14478    14478  14478.000000  14478            8544\n",
              "unique        14477      7       16           NaN      2             456\n",
              "top     Hinamatsuri     TV  Unknown           NaN  False  Toei Animation\n",
              "freq              2   4271     4210           NaN  14127             735\n",
              "mean            NaN    NaN      NaN     11.308399    NaN             NaN\n",
              "std             NaN    NaN      NaN     43.443451    NaN             NaN\n",
              "min             NaN    NaN      NaN      0.000000    NaN             NaN\n",
              "25%             NaN    NaN      NaN      1.000000    NaN             NaN\n",
              "50%             NaN    NaN      NaN      1.000000    NaN             NaN\n",
              "75%             NaN    NaN      NaN     12.000000    NaN             NaN\n",
              "max             NaN    NaN      NaN   1818.000000    NaN             NaN"
            ]
          },
          "execution_count": 86,
          "metadata": {},
          "output_type": "execute_result"
        }
      ],
      "source": [
        "print('Estadisticas basicas del Dataset anime:')\n",
        "df_anime.describe(include = 'all')"
      ]
    },
    {
      "cell_type": "code",
      "execution_count": 87,
      "metadata": {
        "colab": {
          "base_uri": "https://localhost:8080/",
          "height": 412
        },
        "id": "c3ImsWnLPYEX",
        "outputId": "2dc0ebca-f806-473c-96f5-952f2af2addb"
      },
      "outputs": [
        {
          "name": "stdout",
          "output_type": "stream",
          "text": [
            "Estadisticas basicas del Dataset stats:\n"
          ]
        },
        {
          "data": {
            "text/html": [
              "<div>\n",
              "<style scoped>\n",
              "    .dataframe tbody tr th:only-of-type {\n",
              "        vertical-align: middle;\n",
              "    }\n",
              "\n",
              "    .dataframe tbody tr th {\n",
              "        vertical-align: top;\n",
              "    }\n",
              "\n",
              "    .dataframe thead th {\n",
              "        text-align: right;\n",
              "    }\n",
              "</style>\n",
              "<table border=\"1\" class=\"dataframe\">\n",
              "  <thead>\n",
              "    <tr style=\"text-align: right;\">\n",
              "      <th></th>\n",
              "      <th>title</th>\n",
              "      <th>score</th>\n",
              "      <th>members</th>\n",
              "      <th>favorites</th>\n",
              "    </tr>\n",
              "  </thead>\n",
              "  <tbody>\n",
              "    <tr>\n",
              "      <th>count</th>\n",
              "      <td>14478</td>\n",
              "      <td>14478.000000</td>\n",
              "      <td>1.447800e+04</td>\n",
              "      <td>14478.000000</td>\n",
              "    </tr>\n",
              "    <tr>\n",
              "      <th>unique</th>\n",
              "      <td>14477</td>\n",
              "      <td>NaN</td>\n",
              "      <td>NaN</td>\n",
              "      <td>NaN</td>\n",
              "    </tr>\n",
              "    <tr>\n",
              "      <th>top</th>\n",
              "      <td>Hinamatsuri</td>\n",
              "      <td>NaN</td>\n",
              "      <td>NaN</td>\n",
              "      <td>NaN</td>\n",
              "    </tr>\n",
              "    <tr>\n",
              "      <th>freq</th>\n",
              "      <td>2</td>\n",
              "      <td>NaN</td>\n",
              "      <td>NaN</td>\n",
              "      <td>NaN</td>\n",
              "    </tr>\n",
              "    <tr>\n",
              "      <th>mean</th>\n",
              "      <td>NaN</td>\n",
              "      <td>6.142482</td>\n",
              "      <td>2.296640e+04</td>\n",
              "      <td>311.649606</td>\n",
              "    </tr>\n",
              "    <tr>\n",
              "      <th>std</th>\n",
              "      <td>NaN</td>\n",
              "      <td>1.463981</td>\n",
              "      <td>7.498136e+04</td>\n",
              "      <td>2615.554211</td>\n",
              "    </tr>\n",
              "    <tr>\n",
              "      <th>min</th>\n",
              "      <td>NaN</td>\n",
              "      <td>0.000000</td>\n",
              "      <td>0.000000e+00</td>\n",
              "      <td>0.000000</td>\n",
              "    </tr>\n",
              "    <tr>\n",
              "      <th>25%</th>\n",
              "      <td>NaN</td>\n",
              "      <td>5.550000</td>\n",
              "      <td>2.450000e+02</td>\n",
              "      <td>0.000000</td>\n",
              "    </tr>\n",
              "    <tr>\n",
              "      <th>50%</th>\n",
              "      <td>NaN</td>\n",
              "      <td>6.370000</td>\n",
              "      <td>1.679500e+03</td>\n",
              "      <td>2.000000</td>\n",
              "    </tr>\n",
              "    <tr>\n",
              "      <th>75%</th>\n",
              "      <td>NaN</td>\n",
              "      <td>7.060000</td>\n",
              "      <td>1.037900e+04</td>\n",
              "      <td>23.000000</td>\n",
              "    </tr>\n",
              "    <tr>\n",
              "      <th>max</th>\n",
              "      <td>NaN</td>\n",
              "      <td>10.000000</td>\n",
              "      <td>1.456378e+06</td>\n",
              "      <td>106895.000000</td>\n",
              "    </tr>\n",
              "  </tbody>\n",
              "</table>\n",
              "</div>"
            ],
            "text/plain": [
              "              title         score       members      favorites\n",
              "count         14478  14478.000000  1.447800e+04   14478.000000\n",
              "unique        14477           NaN           NaN            NaN\n",
              "top     Hinamatsuri           NaN           NaN            NaN\n",
              "freq              2           NaN           NaN            NaN\n",
              "mean            NaN      6.142482  2.296640e+04     311.649606\n",
              "std             NaN      1.463981  7.498136e+04    2615.554211\n",
              "min             NaN      0.000000  0.000000e+00       0.000000\n",
              "25%             NaN      5.550000  2.450000e+02       0.000000\n",
              "50%             NaN      6.370000  1.679500e+03       2.000000\n",
              "75%             NaN      7.060000  1.037900e+04      23.000000\n",
              "max             NaN     10.000000  1.456378e+06  106895.000000"
            ]
          },
          "execution_count": 87,
          "metadata": {},
          "output_type": "execute_result"
        }
      ],
      "source": [
        "print('Estadisticas basicas del Dataset stats:')\n",
        "df_stats.describe(include ='all')"
      ]
    },
    {
      "cell_type": "markdown",
      "metadata": {
        "id": "09aGGaz9PYEY"
      },
      "source": [
        "## Posibles errores en los datos"
      ]
    },
    {
      "cell_type": "markdown",
      "metadata": {
        "id": "mLg2t5g8PYEY"
      },
      "source": [
        "Al construir los datasets, es posible que se hayan generado **datos duplicados**, ya sea porque alguien ingresó dos veces la misma información, o porque se generó un error en la recolección de datos. Es importante **detectar y decidir qué hacer con estos datos**."
      ]
    },
    {
      "cell_type": "markdown",
      "metadata": {
        "id": "2u883gTnxSe1"
      },
      "source": [
        "4.  ¿Existen filas duplicadas en alguno de los dataframes?\n"
      ]
    },
    {
      "cell_type": "code",
      "execution_count": 88,
      "metadata": {
        "colab": {
          "base_uri": "https://localhost:8080/"
        },
        "id": "lbiWjsayPYEZ",
        "outputId": "6b64a040-eb0d-4edb-8d42-580e52e22d75"
      },
      "outputs": [
        {
          "name": "stdout",
          "output_type": "stream",
          "text": [
            "Cant. filas duplicadas en anime:\n",
            "0\n"
          ]
        }
      ],
      "source": [
        "print('Cant. filas duplicadas en anime:')\n",
        "print(df_anime.duplicated().sum())"
      ]
    },
    {
      "cell_type": "code",
      "execution_count": 89,
      "metadata": {
        "colab": {
          "base_uri": "https://localhost:8080/"
        },
        "id": "F89sGg9brbnv",
        "outputId": "6b164d42-d3a1-49fc-f844-90b038cb2a2c"
      },
      "outputs": [
        {
          "name": "stdout",
          "output_type": "stream",
          "text": [
            "Cant. filas duplicadas en stats:\n",
            "0\n"
          ]
        }
      ],
      "source": [
        "print('Cant. filas duplicadas en stats:')\n",
        "print(df_stats.duplicated().sum())"
      ]
    },
    {
      "cell_type": "markdown",
      "metadata": {
        "id": "BwJcZAElPYEZ"
      },
      "source": [
        "Otro caso común es que existan **valores nulos** en los datos. Al igual que antes, es importante **identificarlos y decidir qué hacer con ellos**."
      ]
    },
    {
      "cell_type": "markdown",
      "metadata": {
        "id": "txTGpQT7x77U"
      },
      "source": [
        "5.  ¿Hay filas con valores nulos en los dataframes?"
      ]
    },
    {
      "cell_type": "code",
      "execution_count": 90,
      "metadata": {
        "colab": {
          "base_uri": "https://localhost:8080/"
        },
        "id": "-jq9z9Gcx_u-",
        "outputId": "a586ce78-4f9c-45a1-94bd-935a9b40d173"
      },
      "outputs": [
        {
          "name": "stdout",
          "output_type": "stream",
          "text": [
            "Número de filas con valores nulos por columna del DataFrame anime:\n",
            "title          0\n",
            "type           0\n",
            "source         0\n",
            "episodes       0\n",
            "airing         0\n",
            "studio      5934\n",
            "dtype: int64\n"
          ]
        }
      ],
      "source": [
        "print('Número de filas con valores nulos por columna del DataFrame anime:')\n",
        "print(df_anime.isnull().sum())"
      ]
    },
    {
      "cell_type": "code",
      "execution_count": 91,
      "metadata": {
        "colab": {
          "base_uri": "https://localhost:8080/"
        },
        "id": "4ipGDVaRPYEa",
        "outputId": "43011767-6253-4a08-b98a-4b98ebe1a243"
      },
      "outputs": [
        {
          "name": "stdout",
          "output_type": "stream",
          "text": [
            "Número de filas con valores nulos por columna del DataFrame stats:\n",
            "title        0\n",
            "score        0\n",
            "members      0\n",
            "favorites    0\n",
            "dtype: int64\n"
          ]
        }
      ],
      "source": [
        "print('Número de filas con valores nulos por columna del DataFrame stats:')\n",
        "print(df_stats.isnull().sum())"
      ]
    },
    {
      "cell_type": "markdown",
      "metadata": {
        "id": "z88uyyQaPYEa"
      },
      "source": [
        "Consideremos que estamos en la situación en la que **decidimos eliminar los valores nulos**."
      ]
    },
    {
      "cell_type": "markdown",
      "metadata": {
        "id": "Nq4MxtnsPYEb"
      },
      "source": [
        "6. En caso de existir valores nulos, elimine las filas que los contengan. ¿Cuántas filas quedan en cada dataset luego de eliminar los valores nulos?"
      ]
    },
    {
      "cell_type": "code",
      "execution_count": 92,
      "metadata": {
        "colab": {
          "base_uri": "https://localhost:8080/"
        },
        "id": "C3Tq4xmqPYEb",
        "outputId": "f4239ae3-2ecc-454c-e2eb-8054c0d151d8"
      },
      "outputs": [
        {
          "name": "stdout",
          "output_type": "stream",
          "text": [
            "filas Dataset original de anime con NaNs: 14478\n",
            "filas Dataset nuevo de anime sin NaNs: 8544\n"
          ]
        }
      ],
      "source": [
        "print('filas Dataset original de anime con NaNs:', df_anime.shape[0])\n",
        "\n",
        "# Nuevo Dataset sin filas con datos NaNs\n",
        "df_anime_clean = df_anime.dropna()\n",
        "\n",
        "print('filas Dataset nuevo de anime sin NaNs:', df_anime_clean.shape[0])"
      ]
    },
    {
      "cell_type": "code",
      "execution_count": 93,
      "metadata": {
        "colab": {
          "base_uri": "https://localhost:8080/"
        },
        "id": "RdE_ipyNPYEb",
        "outputId": "0b040904-c262-48d5-c411-90a8ce3be245"
      },
      "outputs": [
        {
          "name": "stdout",
          "output_type": "stream",
          "text": [
            "filas Dataset original de stats con NaNs: 14478\n",
            "filas Dataset nuevo de stats sin NaNs: 14478\n"
          ]
        }
      ],
      "source": [
        "#stats no cuenta con filas con valores nulos igualmente re-definimos para trabajar con ambos \"clean\" Datasets\n",
        "\n",
        "print('filas Dataset original de stats con NaNs:', df_stats.shape[0])\n",
        "\n",
        "# Nuevo Dataset sin filas con datos NaNs\n",
        "df_stats_clean = df_stats.dropna()\n",
        "\n",
        "print('filas Dataset nuevo de stats sin NaNs:', df_stats_clean.shape[0])"
      ]
    },
    {
      "cell_type": "markdown",
      "metadata": {
        "id": "N8mB-040ynfR"
      },
      "source": [
        "## Juntemos nuestros datos\n",
        "\n",
        "Con el objetivo de tener toda la información en un solo dataframe, y así poder responder preguntas más complejas, **unamos ambos dataframes**."
      ]
    },
    {
      "cell_type": "markdown",
      "metadata": {
        "id": "GIwUxEfBPYEd"
      },
      "source": [
        "7. Junte ambos dataframes en uno solo **a través de la columna \"title\"** con un **inner join**, y **muestre los primeros 5 registros** de este nuevo dataframe."
      ]
    },
    {
      "cell_type": "code",
      "execution_count": 94,
      "metadata": {
        "colab": {
          "base_uri": "https://localhost:8080/"
        },
        "id": "UKw7UPFoyvkr",
        "outputId": "0c34d3bd-c046-4790-c85a-4cb7526558f2"
      },
      "outputs": [
        {
          "name": "stdout",
          "output_type": "stream",
          "text": [
            "Primeros 5 registros del dataframe unido:\n",
            "                 title type    source  episodes  airing            studio  \\\n",
            "0        Inu x Boku SS   TV     Manga        12   False  David Production   \n",
            "1     Seto no Hanayome   TV     Manga        26   False             Gonzo   \n",
            "2   Shugo Chara!! Doki   TV     Manga        51   False         Satelight   \n",
            "3        Princess Tutu   TV  Original        38   False    Hal Film Maker   \n",
            "4  Bakuman. 3rd Season   TV     Manga        25   False         J.C.Staff   \n",
            "\n",
            "   score  members  favorites  \n",
            "0   7.63   283882       2809  \n",
            "1   7.89   204003       2579  \n",
            "2   7.55    70127        802  \n",
            "3   8.21    93312       3344  \n",
            "4   8.67   182765       2082  \n"
          ]
        }
      ],
      "source": [
        "df_merged_dataset = pd.merge(df_anime_clean, df_stats_clean, on=\"title\", how=\"inner\")\n",
        "\n",
        "# Mostrar los primeros 5 registros del dataframe resultante\n",
        "print(\"Primeros 5 registros del dataframe unido:\")\n",
        "print(df_merged_dataset.head())"
      ]
    },
    {
      "cell_type": "markdown",
      "metadata": {
        "id": "kjH0Q24TPYEo"
      },
      "source": [
        "## Obtengamos información de los datos"
      ]
    },
    {
      "cell_type": "markdown",
      "metadata": {
        "id": "EsCmiI_6PYEp"
      },
      "source": [
        "Ahora tenemos que entender un poco más sobre los datos que tenemos, para que el equipo de contenido pueda tomar decisiones informadas.\n",
        "\n",
        "Para esto, tu jefe te ha solicitado las siguientes tareas:"
      ]
    },
    {
      "cell_type": "markdown",
      "metadata": {
        "id": "NVskluTWyrA0"
      },
      "source": [
        "8. \"Necesitamos saber cuales son los animes más populares.\" Para esto, **entrega los 5 animes con más miembros** (número de usuarios que tienen el anime en su lista)."
      ]
    },
    {
      "cell_type": "code",
      "execution_count": 95,
      "metadata": {
        "colab": {
          "base_uri": "https://localhost:8080/"
        },
        "id": "9u0I_Ip3zT0B",
        "outputId": "b04c3d4d-f16b-4eb7-c8fc-05a5c8c399e7"
      },
      "outputs": [
        {
          "name": "stdout",
          "output_type": "stream",
          "text": [
            "Top 5 animes más populares según número de miembros:\n",
            "                                 title type       source  episodes  airing  \\\n",
            "4846                        Death Note   TV        Manga        37   False   \n",
            "4974                Shingeki no Kyojin   TV        Manga        25   False   \n",
            "3826                  Sword Art Online   TV  Light novel        25   False   \n",
            "1602  Fullmetal Alchemist: Brotherhood   TV        Manga        64   False   \n",
            "5393                     One Punch Man   TV    Web manga        12   False   \n",
            "\n",
            "            studio  score  members  favorites  \n",
            "4846      Madhouse   8.67  1456378      88696  \n",
            "4974    Wit Studio   8.49  1345842      64032  \n",
            "3826  A-1 Pictures   7.64  1301616      50042  \n",
            "1602         Bones   9.25  1199091     106895  \n",
            "5393      Madhouse   8.73  1020754      30747  \n"
          ]
        }
      ],
      "source": [
        "# Ordenamos el dataframe unido por el atributo 'members' de forma descendente\n",
        "top5_populares = df_merged_dataset.sort_values(by=\"members\", ascending=False).head(5)\n",
        "\n",
        "print(\"Top 5 animes más populares según número de miembros:\")\n",
        "print(top5_populares)"
      ]
    },
    {
      "cell_type": "markdown",
      "metadata": {
        "id": "fchx0Kd3PYEq"
      },
      "source": [
        "9. Esta información puede ser muy valiosa para identificar alguna característica en común de los animes más populares. **Realiza una observación de alguna característica en común, o algo relevante, de los 5 animes** obtenidos en la pregunta anterior."
      ]
    },
    {
      "cell_type": "markdown",
      "metadata": {
        "id": "zU4ypkCaPYEr"
      },
      "source": [
        "R: Pareciera que los anime de tipo TV son los más populares, independiente de otras cosas como el número de episodios"
      ]
    },
    {
      "cell_type": "markdown",
      "metadata": {
        "id": "VfecebgFzUNT"
      },
      "source": [
        "10. Además de un anime popular, el equipo te dice que quiere hacer un anime de mucha calidad, osea, que sea muy bien evaluado, en particular buscan que tenga un score mayor a 9.0. **Entrega los con score mayor a 9.0**."
      ]
    },
    {
      "cell_type": "code",
      "execution_count": 96,
      "metadata": {
        "id": "jSan9NG5PYEs"
      },
      "outputs": [
        {
          "name": "stdout",
          "output_type": "stream",
          "text": [
            "Animes con score mayor a 9.0\n",
            "                                                  title   type        source  \\\n",
            "287                              Hunter x Hunter (2011)     TV         Manga   \n",
            "666                                      Kimi no Na wa.  Movie      Original   \n",
            "803                                            Gintama°     TV         Manga   \n",
            "839                          3-gatsu no Lion 2nd Season     TV         Manga   \n",
            "1602                   Fullmetal Alchemist: Brotherhood     TV         Manga   \n",
            "1733                               Clannad: After Story     TV  Visual novel   \n",
            "1866                                        Steins;Gate     TV  Visual novel   \n",
            "3519                           Gintama&#039;: Enchousen     TV         Manga   \n",
            "3755                                      Steins;Gate 0     TV  Visual novel   \n",
            "3998                                            Gintama     TV         Manga   \n",
            "4010                                     Koe no Katachi  Movie         Manga   \n",
            "4043                         Owarimonogatari 2nd Season     TV   Light novel   \n",
            "5481                                      Gintama&#039;     TV         Manga   \n",
            "6665                                           Gintama.     TV         Manga   \n",
            "7788                               Ginga Eiyuu Densetsu    OVA         Novel   \n",
            "8087  Gintama Movie 2: Kanketsu-hen - Yorozuya yo Ei...  Movie         Manga   \n",
            "8528                            Dokidoki Little Ooyasan    OVA         Other   \n",
            "\n",
            "      episodes  airing                 studio  score  members  favorites  \n",
            "287        148   False               Madhouse   9.11   720920      64375  \n",
            "666          1   False       CoMix Wave Films   9.19   730076      34912  \n",
            "803         51   False  Bandai Namco Pictures   9.15   198744       5668  \n",
            "839         22   False                  Shaft   9.10    85744       2257  \n",
            "1602        64   False                  Bones   9.25  1199091     106895  \n",
            "1733        24   False        Kyoto Animation   9.01   607387      47380  \n",
            "1866        24   False              White Fox   9.14  1010330      92423  \n",
            "3519        13   False                Sunrise   9.07   123572       1509  \n",
            "3755        23    True              White Fox   9.15   223989       1882  \n",
            "3998       201   False                Sunrise   9.01   459031      33781  \n",
            "4010         1   False        Kyoto Animation   9.04   511915      19815  \n",
            "4043         7   False                  Shaft   9.02   113928       2432  \n",
            "5481        51   False                Sunrise   9.11   215527       4549  \n",
            "6665        12   False  Bandai Namco Pictures   9.02    91695       1237  \n",
            "7788       110   False                Artland   9.11   124993       8567  \n",
            "8087         1   False                Sunrise   9.04   105458       1395  \n",
            "8528         0    True    Collaboration Works   9.52      357         21  \n"
          ]
        }
      ],
      "source": [
        "print(\"Animes con score mayor a 9.0\")\n",
        "print(df_merged_dataset[df_merged_dataset[\"score\"] >= 9.0])"
      ]
    },
    {
      "cell_type": "markdown",
      "metadata": {
        "id": "reoFwP6RzZak"
      },
      "source": [
        "11. Ahora tu equipo desea analizar a la competencia. Para esto **entrega los 5 estudios de anime con mejor score promedio entre sus animes**."
      ]
    },
    {
      "cell_type": "code",
      "execution_count": 97,
      "metadata": {
        "id": "ZU3fiC7GzZDy"
      },
      "outputs": [
        {
          "name": "stdout",
          "output_type": "stream",
          "text": [
            "Top 5 mejores estudios por promedio de sus animes\n",
            "studio\n",
            "Odolttogi             7.870000\n",
            "B&amp;T               7.820000\n",
            "Fuji TV               7.730000\n",
            "Studio Rikka          7.688571\n",
            "D &amp; D Pictures    7.635000\n",
            "Name: score, dtype: float64\n"
          ]
        }
      ],
      "source": [
        "#Agrupar por estudios, calcular promedio, ordenar de mayor a menor y obtener los 5 primeros\n",
        "top_studios = (df_merged_dataset.groupby(\"studio\")[\"score\"].mean().sort_values(ascending=False).head(5))\n",
        "print(\"Top 5 mejores estudios por promedio de sus animes\")\n",
        "print(top_studios)"
      ]
    },
    {
      "cell_type": "markdown",
      "metadata": {
        "id": "byjN8fByPYEt"
      },
      "source": [
        "12. Después de que te preguntaran por los animes que tienen mejor score, se te ocurre crear una columna que indique cuales animes son \"buenos\". Para esto, el área de producto te indica que un \"mal\" anime tiene score bajo 4.0, uno \"intermedio\" tiene score entre 4.0 y 8.0, y uno \"bueno\" tiene score sobre 8.0. **Usa el método apply para crear una nueva columna \"quality\" que tenga como valor \"Malo\", \"Intermedio\" o \"Bueno\" según la definición anterior. Luego, muestra los 5 primeros registros**"
      ]
    },
    {
      "cell_type": "code",
      "execution_count": 98,
      "metadata": {
        "id": "bqQZfSbbPYEt"
      },
      "outputs": [
        {
          "name": "stdout",
          "output_type": "stream",
          "text": [
            "                 title type    source  episodes  airing            studio  \\\n",
            "0        Inu x Boku SS   TV     Manga        12   False  David Production   \n",
            "1     Seto no Hanayome   TV     Manga        26   False             Gonzo   \n",
            "2   Shugo Chara!! Doki   TV     Manga        51   False         Satelight   \n",
            "3        Princess Tutu   TV  Original        38   False    Hal Film Maker   \n",
            "4  Bakuman. 3rd Season   TV     Manga        25   False         J.C.Staff   \n",
            "\n",
            "   score  members  favorites     quality  \n",
            "0   7.63   283882       2809  Intermedio  \n",
            "1   7.89   204003       2579  Intermedio  \n",
            "2   7.55    70127        802  Intermedio  \n",
            "3   8.21    93312       3344       Bueno  \n",
            "4   8.67   182765       2082       Bueno  \n"
          ]
        }
      ],
      "source": [
        "#Funcion de calsificación\n",
        "def clasificar_anime(score):\n",
        "    if score < 4.0:\n",
        "        return \"Malo\"\n",
        "    elif score <= 8.0:\n",
        "        return \"Intermedio\"\n",
        "    else:\n",
        "        return \"Bueno\"\n",
        "#Creamos nueva columna \"quality\" donde su valor se obtiene de pasar su \"score\" por la funcion de clasificación\n",
        "df_merged_dataset[\"quality\"] = df_merged_dataset[\"score\"].apply(clasificar_anime)\n",
        "#Obtenemos solo los 5 primeros\n",
        "print(df_merged_dataset.head(5))"
      ]
    },
    {
      "cell_type": "markdown",
      "metadata": {
        "id": "Mq6A1U6jPYEt"
      },
      "source": [
        "13. Rodrigo, un miembro del equipo, te dice: \"Si deseamos que la gente nos tenga en sus favoritos, ¿qué tipo de anime deberíamos hacer? Para cada tipo de anime (TV, OVA, Movie, etc) podríamos sumar la cantidad de favoritos, y hacer el tipo de anime que tenga la suma más grande\". Sin embargo, tú te percatas de que **hay un problema con lo que él propone**. ¿Cuál es este problema?"
      ]
    },
    {
      "cell_type": "markdown",
      "metadata": {
        "id": "buxgdOzUPYEu"
      },
      "source": [
        "R: El problema de la propuesta es solo sumar los favoritos sin tomar en cuenta la cantidad de animes de cada tipo. Lo correcto sería considerar el promedio de favoritos por tipo de anime, no la suma total."
      ]
    },
    {
      "cell_type": "markdown",
      "metadata": {
        "id": "ZVxg6JBjPYEu"
      },
      "source": [
        "14. Para mostrarle a Rodrigo el problema con la solución que él propuso, **entrega la cantidad de animes por cada tipo**."
      ]
    },
    {
      "cell_type": "code",
      "execution_count": 99,
      "metadata": {
        "id": "Ery5eUccPYEv"
      },
      "outputs": [
        {
          "name": "stdout",
          "output_type": "stream",
          "text": [
            "type\n",
            "TV         3508\n",
            "OVA        1753\n",
            "Special    1339\n",
            "Movie      1293\n",
            "ONA         505\n",
            "Music       136\n",
            "Unknown      11\n",
            "Name: count, dtype: int64\n"
          ]
        }
      ],
      "source": [
        "print(df_merged_dataset[\"type\"].value_counts())"
      ]
    },
    {
      "cell_type": "markdown",
      "metadata": {
        "id": "n45zk1YVzYNx"
      },
      "source": [
        "15. Tu jefe te dice que tuvo una visión en un sueño, te dice que sabe como hacer el anime más famoso. Quiere hacer un anime de tipo OVA, donde la fuente (columna source) sea Novel. **Entrega las columnas title, members, favorites, y quality de todos los animes que cumplan con estas características**."
      ]
    },
    {
      "cell_type": "code",
      "execution_count": 100,
      "metadata": {
        "id": "sy1OmkRBzn0K"
      },
      "outputs": [
        {
          "name": "stdout",
          "output_type": "stream",
          "text": [
            "                                                  title  members  favorites  \\\n",
            "418                          Mobile Suit Gundam Unicorn    52688       1066   \n",
            "605   H. P. Lovecraft&#039;s The Dunwich Horror and ...     2099          4   \n",
            "894                  Ginga Eiyuu Densetsu Gaiden (1999)    10381         15   \n",
            "1599                                   X Densha de Ikou     1549          8   \n",
            "1905                                      The Hakkenden     4982         10   \n",
            "2568     Kubikiri Cycle: Aoiro Savant to Zaregototsukai    44763        290   \n",
            "3225                          Another: The Other - Inga   110815        113   \n",
            "3324     Takarajima Memorial: Yuunagi to Yobareta Otoko      749          0   \n",
            "3339                 Big Wars: Kami Utsu Akaki Kouya ni     1810          5   \n",
            "3388                                   Lodoss-tou Senki    36070        366   \n",
            "4065  Fortune Quest: Yo ni mo Shiawase na Boukensha-...      616          0   \n",
            "4125  Final Fantasy VII: On the Way to a Smile - Epi...    20879         13   \n",
            "4223                     Shingeki no Kyojin: Lost Girls    67254        118   \n",
            "4605                           Saber Marionette J Again     8383         20   \n",
            "4615                                  Shiawasette Naani      586          0   \n",
            "4651                              Brothers Conflict OVA    14586         18   \n",
            "4652                          Hyouka: Motsubeki Mono wa    87644         96   \n",
            "5036              Soreyuke! Uchuu Senkan Yamamoto Yohko     2398          2   \n",
            "5253                                      Makai Tenshou     4724          6   \n",
            "5291                               Makai Toshi Shinjuku     9392         22   \n",
            "5448           Soreyuke! Uchuu Senkan Yamamoto Yohko II     1393          0   \n",
            "5579                                         Souryuuden     1806          7   \n",
            "5796                            Sengoku Kitan Youtouden     1271          3   \n",
            "5931                   Yumemakura Baku Twilight Gekijou      509          0   \n",
            "6433                           The Hakkenden: Shin Shou     1420          1   \n",
            "6870                                   Teito Monogatari     4530         14   \n",
            "6980                        Ginga Eiyuu Densetsu Gaiden    11644         31   \n",
            "7060                        Satsujin Kippu wa Heart-iro      365          0   \n",
            "7664                             Sentou Yousei Yukikaze    12077        115   \n",
            "7788                               Ginga Eiyuu Densetsu   124993       8567   \n",
            "7889                Onihei: Sono Otoko, Heizou Hasegawa     2159          1   \n",
            "\n",
            "         quality  \n",
            "418        Bueno  \n",
            "605   Intermedio  \n",
            "894        Bueno  \n",
            "1599  Intermedio  \n",
            "1905  Intermedio  \n",
            "2568  Intermedio  \n",
            "3225  Intermedio  \n",
            "3324  Intermedio  \n",
            "3339  Intermedio  \n",
            "3388  Intermedio  \n",
            "4065  Intermedio  \n",
            "4125  Intermedio  \n",
            "4223       Bueno  \n",
            "4605  Intermedio  \n",
            "4615  Intermedio  \n",
            "4651  Intermedio  \n",
            "4652  Intermedio  \n",
            "5036  Intermedio  \n",
            "5253  Intermedio  \n",
            "5291  Intermedio  \n",
            "5448  Intermedio  \n",
            "5579  Intermedio  \n",
            "5796  Intermedio  \n",
            "5931  Intermedio  \n",
            "6433  Intermedio  \n",
            "6870  Intermedio  \n",
            "6980       Bueno  \n",
            "7060  Intermedio  \n",
            "7664  Intermedio  \n",
            "7788       Bueno  \n",
            "7889  Intermedio  \n"
          ]
        }
      ],
      "source": [
        "df_ova_novel = df_merged_dataset[(df_merged_dataset[\"type\"] == \"OVA\")&(df_merged_dataset[\"source\"] == \"Novel\")][[\"title\", \"members\", \"favorites\", \"quality\"]]\n",
        "print(df_ova_novel)"
      ]
    },
    {
      "cell_type": "markdown",
      "metadata": {
        "id": "H-QaCsPzPYEw"
      },
      "source": [
        "16. Para verificar si tu jefe tiene sueños extraños, o si realmente tiene una visión, **calcula y muestra el promedio de los miembros, el promedio de los favoritos, y la categoría de quality más repetida** de los animes obtenidos en la pregunta anterior."
      ]
    },
    {
      "cell_type": "code",
      "execution_count": 101,
      "metadata": {
        "id": "PeAuASNSPYEx"
      },
      "outputs": [
        {
          "name": "stdout",
          "output_type": "stream",
          "text": [
            "Promedio de miembros: 20791.451612903227\n",
            "Promedio de favoritos: 351.96774193548384\n",
            "Categoría de quality más repetida: Intermedio\n"
          ]
        }
      ],
      "source": [
        "promedio_miembros = df_ova_novel[\"members\"].mean()\n",
        "promedio_favoritos = df_ova_novel[\"favorites\"].mean()\n",
        "quality_mas_repetida = df_ova_novel[\"quality\"].mode()[0]\n",
        "\n",
        "print(\"Promedio de miembros:\", promedio_miembros)\n",
        "print(\"Promedio de favoritos:\", promedio_favoritos)\n",
        "print(\"Categoría de quality más repetida:\", quality_mas_repetida)"
      ]
    },
    {
      "cell_type": "markdown",
      "metadata": {
        "id": "xkbw4vcNRKEg"
      },
      "source": [
        "# Visualicemos los datos"
      ]
    },
    {
      "cell_type": "markdown",
      "metadata": {
        "id": "SUdmMgMYRUhi"
      },
      "source": [
        "17. Muestre el histograma de todas las puntuaciones de animes"
      ]
    },
    {
      "cell_type": "code",
      "execution_count": 108,
      "metadata": {
        "id": "TgB3MS58SU7r"
      },
      "outputs": [
        {
          "data": {
            "image/png": "[encoded data removed]",
            "text/plain": [
              "<Figure size 640x480 with 1 Axes>"
            ]
          },
          "metadata": {},
          "output_type": "display_data"
        }
      ],
      "source": [
        "df_merged_dataset[\"score\"].hist(bins=50, edgecolor=\"black\")\n",
        "plt.xlabel(\"Score\")\n",
        "plt.ylabel(\"Cantidad de animes\")\n",
        "plt.title(\"Histograma de puntuaciones de animes\")\n",
        "plt.show()"
      ]
    },
    {
      "cell_type": "markdown",
      "metadata": {
        "id": "tVDvUZK1SUi2"
      },
      "source": [
        "18. Muestre la densidad de puntajes para los principales tipos de anime (TV, OVA, Movie)"
      ]
    },
    {
      "cell_type": "code",
      "execution_count": 109,
      "metadata": {
        "id": "MSm5_YoWToLA"
      },
      "outputs": [
        {
          "data": {
            "image/png": "[encoded data removed]",
            "text/plain": [
              "<Figure size 1000x600 with 1 Axes>"
            ]
          },
          "metadata": {},
          "output_type": "display_data"
        }
      ],
      "source": [
        "tipos_principales = [\"TV\", \"OVA\", \"Movie\"]\n",
        "df_filtrado = df_merged_dataset[df_merged_dataset[\"type\"].isin(tipos_principales)]\n",
        "\n",
        "plt.figure(figsize=(10,6))\n",
        "for tipo in tipos_principales:\n",
        "    df_filtrado[df_filtrado[\"type\"] == tipo][\"score\"].plot(kind=\"density\", label=tipo)\n",
        "\n",
        "plt.xlabel(\"Score\")\n",
        "plt.ylabel(\"Densidad\")\n",
        "plt.title(\"Densidad de puntajes por tipo de anime (TV, OVA, Movie)\")\n",
        "plt.legend()\n",
        "plt.show()\n"
      ]
    },
    {
      "cell_type": "markdown",
      "metadata": {
        "id": "CcwK9kniTo_r"
      },
      "source": [
        "19. ¿Cuál tipo de anime es más exitoso? ¿Se está tomando en cuenta la cantidad de animes por tipo al afirmar eso?"
      ]
    },
    {
      "cell_type": "markdown",
      "metadata": {
        "id": "zjyA38rqVBC0"
      },
      "source": [
        "R: Como la densidad de animes tipo Movie se concentra hacia puntajes altos significa que suelen recibir mejores calificaciones, por lo tanto parecieran ser más exitosos.\n",
        "\n",
        "Sin embargo, no se toma en cuenta la cantidad de animes por tipo, solo refleja la calidad promedio y no la cantidad total de animes exitosos."
      ]
    },
    {
      "cell_type": "markdown",
      "metadata": {
        "id": "0AcGLVkczvU1"
      },
      "source": [
        "Y eso es todo por hoy :)\n"
      ]
    },
    {
      "cell_type": "markdown",
      "metadata": {
        "id": "rR_plUgOz2kN"
      },
      "source": [
        "![](https://i.imgur.com/ghKLs78.jpeg)"
      ]
    }
  ],
  "metadata": {
    "colab": {
      "provenance": []
    },
    "kernelspec": {
      "display_name": "venv_mindat",
      "language": "python",
      "name": "python3"
    },
    "language_info": {
      "codemirror_mode": {
        "name": "ipython",
        "version": 3
      },
      "file_extension": ".py",
      "mimetype": "text/x-python",
      "name": "python",
      "nbconvert_exporter": "python",
      "pygments_lexer": "ipython3",
      "version": "3.13.5"
    }
  },
  "nbformat": 4,
  "nbformat_minor": 0
}
